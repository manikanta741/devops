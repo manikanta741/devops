{
  "nbformat": 4,
  "nbformat_minor": 0,
  "metadata": {
    "colab": {
      "provenance": [],
      "authorship_tag": "ABX9TyPkVOO42H3TPb/qFwB1eQnJ",
      "include_colab_link": true
    },
    "kernelspec": {
      "name": "python3",
      "display_name": "Python 3"
    },
    "language_info": {
      "name": "python"
    }
  },
  "cells": [
    {
      "cell_type": "markdown",
      "metadata": {
        "id": "view-in-github",
        "colab_type": "text"
      },
      "source": [
        "<a href=\"https://colab.research.google.com/github/manikanta741/devops/blob/main/Untitled137.ipynb\" target=\"_parent\"><img src=\"https://colab.research.google.com/assets/colab-badge.svg\" alt=\"Open In Colab\"/></a>"
      ]
    },
    {
      "cell_type": "code",
      "source": [
        "\n",
        "\n",
        "#include <stdio.h>\n",
        "#include <string.h>\n",
        "\n",
        "#define MAX_LENGTH 28\n",
        "\n",
        "char data[MAX_LENGTH];\n",
        "char check_value[MAX_LENGTH];\n",
        "char gen_poly[10];\n",
        "\n",
        "void XOR(int length) {\n",
        "    for (int j = 1; j < length; j++)\n",
        "        check_value[j] = ((check_value[j] == gen_poly[j]) ? '0' : '1');\n",
        "}\n",
        "\n",
        "void receiver() {\n",
        "    printf(\"Enter the received data: \");\n",
        "    scanf(\"%s\", data);\n",
        "    printf(\"\\nData received: %s\\n\", data);\n",
        "    int length = strlen(gen_poly);\n",
        "    for (int i = 0; i < length; i++)\n",
        "        check_value[i] = data[i];\n",
        "    for (int i = length; i < MAX_LENGTH; i++)\n",
        "        check_value[i] = '\\0';\n",
        "\n",
        "    for (int i = 0; i < length; i++) {\n",
        "        if (check_value[i] == '1') {\n",
        "            XOR(length);\n",
        "            break;\n",
        "        }\n",
        "    }\n",
        "\n",
        "    int i = 0;\n",
        "    for (; (i < length - 1) && (check_value[i] != '1'); i++);\n",
        "    if (i < length - 1)\n",
        "        printf(\"Error detected\\n\");\n",
        "    else\n",
        "        printf(\"No error detected\\n\");\n",
        "}\n",
        "\n",
        "void crc() {\n",
        "    int length = strlen(gen_poly);\n",
        "    for (int i = 0; i < length; i++)\n",
        "        check_value[i] = data[i];\n",
        "    for (int i = length; i < MAX_LENGTH; i++)\n",
        "        check_value[i] = '\\0';\n",
        "\n",
        "    int data_length = strlen(data);\n",
        "    int i = length;\n",
        "    do {\n",
        "        if (check_value[0] == '1')\n",
        "            XOR(length);\n",
        "        for (int j = 0; j < length - 1; j++)\n",
        "            check_value[j] = check_value[j + 1];\n",
        "        check_value[length - 1] = data[i++];\n",
        "    } while (i <= data_length + length - 1);\n",
        "}\n",
        "\n",
        "int main() {\n",
        "    printf(\"Enter data to be transmitted: \");\n",
        "    scanf(\"%27s\", data);  // Leave space for null-terminator\n",
        "    data[MAX_LENGTH - 1] = '\\0';  // Ensure null-termination\n",
        "\n",
        "    printf(\"Enter the Generating polynomial: \");\n",
        "    scanf(\"%9s\", gen_poly);  // Leave space for null-terminator\n",
        "    gen_poly[9] = '\\0';  // Ensure null-termination\n",
        "\n",
        "    int data_length = strlen(data);\n",
        "    int length = strlen(gen_poly);\n",
        "\n",
        "    // Pad data with zeros\n",
        "    for (int i = data_length; i < data_length + length - 1; i++)\n",
        "        data[i] = '0';\n",
        "    data[data_length + length - 1] = '\\0';  // Ensure null-termination\n",
        "\n",
        "    printf(\"Data padded with n-1 zeros: %s\\n\", data);\n",
        "\n",
        "    crc();\n",
        "    printf(\"CRC or Check value is : %s\\n\", check_value);\n",
        "\n",
        "    // Append CRC to data\n",
        "    for (int i = data_length; i < data_length + length - 1; i++)\n",
        "        data[i] = check_value[i - data_length];\n",
        "\n",
        "    printf(\"Final data to be sent : %s\\n\", data);\n",
        "\n",
        "    receiver();\n",
        "\n",
        "    return 0;\n",
        "}\n"
      ],
      "metadata": {
        "id": "mFCi3yhe-GuY"
      },
      "execution_count": null,
      "outputs": []
    },
    {
      "cell_type": "code",
      "source": [
        "Enter data to be transmitted: 10101010\n",
        "\n",
        " Enter the Generating polynomial: 1001\n",
        "\n",
        " Data padded with n-1 zeros: 1010101000\n",
        "\n",
        "CRC or Check value is : 0010\n",
        "\n",
        " Final data to be sent : 10101010010\n",
        "\n",
        "Enter the received data: 10101010010\n",
        "\n",
        "Data received: 10101010010\n",
        "\n",
        "No error detected\n"
      ],
      "metadata": {
        "id": "lmCgUAqD-Lmu"
      },
      "execution_count": null,
      "outputs": []
    }
  ]
}